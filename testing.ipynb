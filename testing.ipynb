{
 "cells": [
  {
   "cell_type": "code",
   "execution_count": 3,
   "metadata": {},
   "outputs": [],
   "source": [
    "# !pip install tabula-py\n",
    "# "
   ]
  },
  {
   "cell_type": "code",
   "execution_count": 2,
   "metadata": {},
   "outputs": [],
   "source": [
    "from tabula import read_pdf\n"
   ]
  },
  {
   "cell_type": "code",
   "execution_count": 14,
   "metadata": {},
   "outputs": [
    {
     "ename": "UnicodeDecodeError",
     "evalue": "'utf-8' codec can't decode byte 0x95 in position 640: invalid start byte",
     "output_type": "error",
     "traceback": [
      "\u001b[1;31m---------------------------------------------------------------------------\u001b[0m",
      "\u001b[1;31mUnicodeDecodeError\u001b[0m                        Traceback (most recent call last)",
      "Cell \u001b[1;32mIn[14], line 2\u001b[0m\n\u001b[0;32m      1\u001b[0m pdf_path \u001b[38;5;241m=\u001b[39m \u001b[38;5;124m\"\u001b[39m\u001b[38;5;124m./PDF/Clinical Documentation/Clinical Documentation/Clinical Validation and Documentation for Coding _eCDCG25_eBook.pdf\u001b[39m\u001b[38;5;124m\"\u001b[39m\n\u001b[1;32m----> 2\u001b[0m tabular_data \u001b[38;5;241m=\u001b[39m \u001b[43mread_pdf\u001b[49m\u001b[43m(\u001b[49m\u001b[43mpdf_path\u001b[49m\u001b[43m,\u001b[49m\u001b[43m \u001b[49m\u001b[43mpages\u001b[49m\u001b[38;5;241;43m=\u001b[39;49m\u001b[38;5;124;43m\"\u001b[39;49m\u001b[38;5;124;43m68\u001b[39;49m\u001b[38;5;124;43m\"\u001b[39;49m\u001b[43m,\u001b[49m\u001b[43mlattice\u001b[49m\u001b[38;5;241;43m=\u001b[39;49m\u001b[38;5;28;43;01mTrue\u001b[39;49;00m\u001b[43m,\u001b[49m\u001b[43m)\u001b[49m\n",
      "File \u001b[1;32mc:\\Users\\umaro\\AppData\\Local\\Programs\\Python\\Python312\\Lib\\site-packages\\tabula\\io.py:400\u001b[0m, in \u001b[0;36mread_pdf\u001b[1;34m(input_path, output_format, encoding, java_options, pandas_options, multiple_tables, user_agent, use_raw_url, pages, guess, area, relative_area, lattice, stream, password, silent, columns, relative_columns, format, batch, output_path, force_subprocess, options)\u001b[0m\n\u001b[0;32m    397\u001b[0m     \u001b[38;5;28;01mraise\u001b[39;00m \u001b[38;5;167;01mValueError\u001b[39;00m(\u001b[38;5;124mf\u001b[39m\u001b[38;5;124m\"\u001b[39m\u001b[38;5;132;01m{\u001b[39;00mpath\u001b[38;5;132;01m}\u001b[39;00m\u001b[38;5;124m is empty. Check the file, or download it manually.\u001b[39m\u001b[38;5;124m\"\u001b[39m)\n\u001b[0;32m    399\u001b[0m \u001b[38;5;28;01mtry\u001b[39;00m:\n\u001b[1;32m--> 400\u001b[0m     output \u001b[38;5;241m=\u001b[39m \u001b[43m_run\u001b[49m\u001b[43m(\u001b[49m\n\u001b[0;32m    401\u001b[0m \u001b[43m        \u001b[49m\u001b[43mtabula_options\u001b[49m\u001b[43m,\u001b[49m\n\u001b[0;32m    402\u001b[0m \u001b[43m        \u001b[49m\u001b[43mjava_options\u001b[49m\u001b[43m,\u001b[49m\n\u001b[0;32m    403\u001b[0m \u001b[43m        \u001b[49m\u001b[43mpath\u001b[49m\u001b[43m,\u001b[49m\n\u001b[0;32m    404\u001b[0m \u001b[43m        \u001b[49m\u001b[43mencoding\u001b[49m\u001b[38;5;241;43m=\u001b[39;49m\u001b[43mencoding\u001b[49m\u001b[43m,\u001b[49m\n\u001b[0;32m    405\u001b[0m \u001b[43m        \u001b[49m\u001b[43mforce_subprocess\u001b[49m\u001b[38;5;241;43m=\u001b[39;49m\u001b[43mforce_subprocess\u001b[49m\u001b[43m,\u001b[49m\n\u001b[0;32m    406\u001b[0m \u001b[43m    \u001b[49m\u001b[43m)\u001b[49m\n\u001b[0;32m    407\u001b[0m \u001b[38;5;28;01mfinally\u001b[39;00m:\n\u001b[0;32m    408\u001b[0m     \u001b[38;5;28;01mif\u001b[39;00m temporary:\n",
      "File \u001b[1;32mc:\\Users\\umaro\\AppData\\Local\\Programs\\Python\\Python312\\Lib\\site-packages\\tabula\\io.py:86\u001b[0m, in \u001b[0;36m_run\u001b[1;34m(options, java_options, path, encoding, force_subprocess)\u001b[0m\n\u001b[0;32m     83\u001b[0m \u001b[38;5;28;01melif\u001b[39;00m \u001b[38;5;28mset\u001b[39m(java_options) \u001b[38;5;241m-\u001b[39m IGNORED_JAVA_OPTIONS:\n\u001b[0;32m     84\u001b[0m     logger\u001b[38;5;241m.\u001b[39mwarning(\u001b[38;5;124m\"\u001b[39m\u001b[38;5;124mjava_options is ignored until rebooting the Python process.\u001b[39m\u001b[38;5;124m\"\u001b[39m)\n\u001b[1;32m---> 86\u001b[0m \u001b[38;5;28;01mreturn\u001b[39;00m \u001b[43m_tabula_vm\u001b[49m\u001b[38;5;241;43m.\u001b[39;49m\u001b[43mcall_tabula_java\u001b[49m\u001b[43m(\u001b[49m\u001b[43moptions\u001b[49m\u001b[43m,\u001b[49m\u001b[43m \u001b[49m\u001b[43mpath\u001b[49m\u001b[43m)\u001b[49m\n",
      "File \u001b[1;32mc:\\Users\\umaro\\AppData\\Local\\Programs\\Python\\Python312\\Lib\\site-packages\\tabula\\backend.py:131\u001b[0m, in \u001b[0;36mSubprocessTabula.call_tabula_java\u001b[1;34m(self, options, path)\u001b[0m\n\u001b[0;32m    129\u001b[0m     \u001b[38;5;28;01mif\u001b[39;00m result\u001b[38;5;241m.\u001b[39mstderr:\n\u001b[0;32m    130\u001b[0m         logger\u001b[38;5;241m.\u001b[39mwarning(\u001b[38;5;124mf\u001b[39m\u001b[38;5;124m\"\u001b[39m\u001b[38;5;124mGot stderr: \u001b[39m\u001b[38;5;132;01m{\u001b[39;00mresult\u001b[38;5;241m.\u001b[39mstderr\u001b[38;5;241m.\u001b[39mdecode(\u001b[38;5;28mself\u001b[39m\u001b[38;5;241m.\u001b[39mencoding)\u001b[38;5;132;01m}\u001b[39;00m\u001b[38;5;124m\"\u001b[39m)\n\u001b[1;32m--> 131\u001b[0m     \u001b[38;5;28;01mreturn\u001b[39;00m \u001b[43mresult\u001b[49m\u001b[38;5;241;43m.\u001b[39;49m\u001b[43mstdout\u001b[49m\u001b[38;5;241;43m.\u001b[39;49m\u001b[43mdecode\u001b[49m\u001b[43m(\u001b[49m\u001b[38;5;28;43mself\u001b[39;49m\u001b[38;5;241;43m.\u001b[39;49m\u001b[43mencoding\u001b[49m\u001b[43m)\u001b[49m\n\u001b[0;32m    132\u001b[0m \u001b[38;5;28;01mexcept\u001b[39;00m \u001b[38;5;167;01mFileNotFoundError\u001b[39;00m:\n\u001b[0;32m    133\u001b[0m     \u001b[38;5;28;01mraise\u001b[39;00m JavaNotFoundError(JAVA_NOT_FOUND_ERROR)\n",
      "\u001b[1;31mUnicodeDecodeError\u001b[0m: 'utf-8' codec can't decode byte 0x95 in position 640: invalid start byte"
     ]
    }
   ],
   "source": [
    "pdf_path = \"./PDF/Clinical Documentation/Clinical Documentation/Clinical Validation and Documentation for Coding _eCDCG25_eBook.pdf\"\n",
    "tabular_data = read_pdf(pdf_path, pages=\"68\",lattice=True,)"
   ]
  },
  {
   "cell_type": "code",
   "execution_count": 13,
   "metadata": {},
   "outputs": [
    {
     "data": {
      "text/html": [
       "<div>\n",
       "<style scoped>\n",
       "    .dataframe tbody tr th:only-of-type {\n",
       "        vertical-align: middle;\n",
       "    }\n",
       "\n",
       "    .dataframe tbody tr th {\n",
       "        vertical-align: top;\n",
       "    }\n",
       "\n",
       "    .dataframe thead th {\n",
       "        text-align: right;\n",
       "    }\n",
       "</style>\n",
       "<table border=\"1\" class=\"dataframe\">\n",
       "  <thead>\n",
       "    <tr style=\"text-align: right;\">\n",
       "      <th></th>\n",
       "      <th>Examples: nature of adverse effect due to\\ranticoagulant coagulopathy (not all inclusive)</th>\n",
       "      <th>T45.515A and D68.32: sequenced after code(s) for\\rthe nature of the adverse effects</th>\n",
       "    </tr>\n",
       "  </thead>\n",
       "  <tbody>\n",
       "    <tr>\n",
       "      <th>0</th>\n",
       "      <td>Bleeding gums</td>\n",
       "      <td>K06.8</td>\n",
       "    </tr>\n",
       "    <tr>\n",
       "      <th>1</th>\n",
       "      <td>Blood in stool/melena</td>\n",
       "      <td>K92.1</td>\n",
       "    </tr>\n",
       "    <tr>\n",
       "      <th>2</th>\n",
       "      <td>Epistaxis</td>\n",
       "      <td>R04.0</td>\n",
       "    </tr>\n",
       "    <tr>\n",
       "      <th>3</th>\n",
       "      <td>Excessive bleed from AV fistula</td>\n",
       "      <td>T82.838A</td>\n",
       "    </tr>\n",
       "    <tr>\n",
       "      <th>4</th>\n",
       "      <td>Excessive bleed from Foley</td>\n",
       "      <td>T83.83XA</td>\n",
       "    </tr>\n",
       "    <tr>\n",
       "      <th>5</th>\n",
       "      <td>Excessive bleed from PICC</td>\n",
       "      <td>T82.838A</td>\n",
       "    </tr>\n",
       "    <tr>\n",
       "      <th>6</th>\n",
       "      <td>Gastritis with bleeding</td>\n",
       "      <td>K29- with a fifth character of 1</td>\n",
       "    </tr>\n",
       "    <tr>\n",
       "      <th>7</th>\n",
       "      <td>GI bleed of undetermined, unspecified site</td>\n",
       "      <td>K92.2</td>\n",
       "    </tr>\n",
       "    <tr>\n",
       "      <th>8</th>\n",
       "      <td>Gross hematuria</td>\n",
       "      <td>R31.0</td>\n",
       "    </tr>\n",
       "    <tr>\n",
       "      <th>9</th>\n",
       "      <td>Hemoperitoneum (nontraumatic) (spontaneous)</td>\n",
       "      <td>K66.1</td>\n",
       "    </tr>\n",
       "    <tr>\n",
       "      <th>10</th>\n",
       "      <td>Hemoptysis</td>\n",
       "      <td>R04.2</td>\n",
       "    </tr>\n",
       "    <tr>\n",
       "      <th>11</th>\n",
       "      <td>Hemorrhage of anus and rectum</td>\n",
       "      <td>K62.5</td>\n",
       "    </tr>\n",
       "    <tr>\n",
       "      <th>12</th>\n",
       "      <td>HIT (heparin induced thrombocytopenia)</td>\n",
       "      <td>D75.82-</td>\n",
       "    </tr>\n",
       "    <tr>\n",
       "      <th>13</th>\n",
       "      <td>Joint hemarthrosis</td>\n",
       "      <td>M25.0-</td>\n",
       "    </tr>\n",
       "    <tr>\n",
       "      <th>14</th>\n",
       "      <td>Muscle (Psoas) hematoma</td>\n",
       "      <td>M79.81</td>\n",
       "    </tr>\n",
       "    <tr>\n",
       "      <th>15</th>\n",
       "      <td>Retroperitoneal hematoma/hemorrhage</td>\n",
       "      <td>K66.1</td>\n",
       "    </tr>\n",
       "    <tr>\n",
       "      <th>16</th>\n",
       "      <td>Spontaneous ecchymoses</td>\n",
       "      <td>R23.3</td>\n",
       "    </tr>\n",
       "    <tr>\n",
       "      <th>17</th>\n",
       "      <td>Subdural hematoma (spontaneous) (nontraumatic)</td>\n",
       "      <td>I62.0-</td>\n",
       "    </tr>\n",
       "    <tr>\n",
       "      <th>18</th>\n",
       "      <td>Warfarin-induced skin necrosis (gangrene)</td>\n",
       "      <td>I96</td>\n",
       "    </tr>\n",
       "  </tbody>\n",
       "</table>\n",
       "</div>"
      ],
      "text/plain": [
       "   Examples: nature of adverse effect due to\\ranticoagulant coagulopathy (not all inclusive)  \\\n",
       "0                                       Bleeding gums                                          \n",
       "1                               Blood in stool/melena                                          \n",
       "2                                           Epistaxis                                          \n",
       "3                     Excessive bleed from AV fistula                                          \n",
       "4                          Excessive bleed from Foley                                          \n",
       "5                           Excessive bleed from PICC                                          \n",
       "6                             Gastritis with bleeding                                          \n",
       "7          GI bleed of undetermined, unspecified site                                          \n",
       "8                                     Gross hematuria                                          \n",
       "9         Hemoperitoneum (nontraumatic) (spontaneous)                                          \n",
       "10                                         Hemoptysis                                          \n",
       "11                      Hemorrhage of anus and rectum                                          \n",
       "12             HIT (heparin induced thrombocytopenia)                                          \n",
       "13                                 Joint hemarthrosis                                          \n",
       "14                            Muscle (Psoas) hematoma                                          \n",
       "15                Retroperitoneal hematoma/hemorrhage                                          \n",
       "16                             Spontaneous ecchymoses                                          \n",
       "17     Subdural hematoma (spontaneous) (nontraumatic)                                          \n",
       "18          Warfarin-induced skin necrosis (gangrene)                                          \n",
       "\n",
       "   T45.515A and D68.32: sequenced after code(s) for\\rthe nature of the adverse effects  \n",
       "0                                               K06.8                                   \n",
       "1                                               K92.1                                   \n",
       "2                                               R04.0                                   \n",
       "3                                            T82.838A                                   \n",
       "4                                            T83.83XA                                   \n",
       "5                                            T82.838A                                   \n",
       "6                    K29- with a fifth character of 1                                   \n",
       "7                                               K92.2                                   \n",
       "8                                               R31.0                                   \n",
       "9                                               K66.1                                   \n",
       "10                                              R04.2                                   \n",
       "11                                              K62.5                                   \n",
       "12                                            D75.82-                                   \n",
       "13                                             M25.0-                                   \n",
       "14                                             M79.81                                   \n",
       "15                                              K66.1                                   \n",
       "16                                              R23.3                                   \n",
       "17                                             I62.0-                                   \n",
       "18                                                I96                                   "
      ]
     },
     "execution_count": 13,
     "metadata": {},
     "output_type": "execute_result"
    }
   ],
   "source": [
    "tabular_data[0]"
   ]
  },
  {
   "cell_type": "code",
   "execution_count": 15,
   "metadata": {},
   "outputs": [
    {
     "name": "stdout",
     "output_type": "stream",
     "text": [
      "^C\n"
     ]
    },
    {
     "name": "stdout",
     "output_type": "stream",
     "text": [
      "Collecting camelot\n",
      "  Downloading Camelot-12.06.29.tar.gz (3.5 MB)\n",
      "     ---------------------------------------- 0.0/3.5 MB ? eta -:--:--\n",
      "     ---------------------------------------- 3.5/3.5 MB 29.6 MB/s eta 0:00:00\n",
      "  Installing build dependencies: started\n",
      "  Installing build dependencies: finished with status 'done'\n",
      "  Getting requirements to build wheel: started\n",
      "  Getting requirements to build wheel: finished with status 'done'\n",
      "  Preparing metadata (pyproject.toml): started\n",
      "  Preparing metadata (pyproject.toml): finished with status 'done'\n",
      "Collecting SQLAlchemy<0.8.0,>=0.7.7 (from camelot)\n",
      "  Downloading SQLAlchemy-0.7.10.tar.gz (3.5 MB)\n",
      "     ---------------------------------------- 0.0/3.5 MB ? eta -:--:--\n",
      "     ---------------------------------------- 3.5/3.5 MB 42.0 MB/s eta 0:00:00\n",
      "  Installing build dependencies: started\n",
      "  Installing build dependencies: finished with status 'done'\n",
      "  Getting requirements to build wheel: started\n",
      "  Getting requirements to build wheel: finished with status 'done'\n",
      "  Preparing metadata (pyproject.toml): started\n",
      "  Preparing metadata (pyproject.toml): finished with status 'done'\n",
      "Collecting Elixir>=0.7.1 (from camelot)\n",
      "  Downloading Elixir-0.7.1.tar.gz (47 kB)\n",
      "  Installing build dependencies: started\n",
      "  Installing build dependencies: finished with status 'done'\n",
      "  Getting requirements to build wheel: started\n",
      "  Getting requirements to build wheel: finished with status 'done'\n",
      "  Preparing metadata (pyproject.toml): started\n",
      "  Preparing metadata (pyproject.toml): finished with status 'done'\n",
      "Collecting sqlalchemy-migrate>=0.7.1 (from camelot)\n",
      "  Downloading sqlalchemy_migrate-0.13.0-py2.py3-none-any.whl.metadata (2.7 kB)\n",
      "Requirement already satisfied: Jinja2>=2.5.5 in c:\\users\\umaro\\appdata\\local\\programs\\python\\python312\\lib\\site-packages (from camelot) (3.1.4)\n",
      "Requirement already satisfied: chardet>=1.0.1 in c:\\users\\umaro\\appdata\\local\\programs\\python\\python312\\lib\\site-packages (from camelot) (5.2.0)\n",
      "Collecting xlwt==0.7.2 (from camelot)\n",
      "  Downloading xlwt-0.7.2.zip (131 kB)\n",
      "  Installing build dependencies: started\n",
      "  Installing build dependencies: finished with status 'done'\n",
      "  Getting requirements to build wheel: started\n",
      "  Getting requirements to build wheel: finished with status 'done'\n",
      "  Preparing metadata (pyproject.toml): started\n",
      "  Preparing metadata (pyproject.toml): finished with status 'done'\n",
      "Collecting xlrd==0.7.1 (from camelot)\n",
      "  Downloading xlrd-0.7.1.zip (125 kB)\n",
      "  Installing build dependencies: started\n",
      "  Installing build dependencies: still running...\n",
      "  Installing build dependencies: finished with status 'done'\n",
      "  Getting requirements to build wheel: started\n",
      "  Getting requirements to build wheel: finished with status 'done'\n",
      "  Preparing metadata (pyproject.toml): started\n",
      "  Preparing metadata (pyproject.toml): finished with status 'done'\n",
      "Requirement already satisfied: MarkupSafe>=2.0 in c:\\users\\umaro\\appdata\\local\\programs\\python\\python312\\lib\\site-packages (from Jinja2>=2.5.5->camelot) (2.1.5)\n",
      "Collecting pbr>=1.8 (from sqlalchemy-migrate>=0.7.1->camelot)\n",
      "  Downloading pbr-6.1.0-py2.py3-none-any.whl.metadata (3.4 kB)\n",
      "INFO: pip is looking at multiple versions of sqlalchemy-migrate to determine which version is compatible with other requirements. This could take a while.\n",
      "Collecting sqlalchemy-migrate>=0.7.1 (from camelot)\n",
      "  Downloading sqlalchemy_migrate-0.12.0-py2.py3-none-any.whl.metadata (2.6 kB)\n",
      "  Downloading sqlalchemy-migrate-0.11.0.tar.gz (128 kB)\n",
      "  Installing build dependencies: started\n",
      "  Installing build dependencies: finished with status 'done'\n",
      "  Getting requirements to build wheel: started\n",
      "  Getting requirements to build wheel: finished with status 'done'\n",
      "  Installing backend dependencies: started\n",
      "  Installing backend dependencies: still running...\n",
      "  Installing backend dependencies: finished with status 'done'\n",
      "  Preparing metadata (pyproject.toml): started\n",
      "  Preparing metadata (pyproject.toml): finished with status 'done'\n",
      "Requirement already satisfied: decorator in c:\\users\\umaro\\appdata\\roaming\\python\\python312\\site-packages (from sqlalchemy-migrate>=0.7.1->camelot) (5.1.1)\n",
      "Requirement already satisfied: six>=1.7.0 in c:\\users\\umaro\\appdata\\local\\programs\\python\\python312\\lib\\site-packages (from sqlalchemy-migrate>=0.7.1->camelot) (1.16.0)\n",
      "Collecting sqlparse (from sqlalchemy-migrate>=0.7.1->camelot)\n",
      "  Downloading sqlparse-0.5.3-py3-none-any.whl.metadata (3.9 kB)\n",
      "Collecting Tempita>=0.4 (from sqlalchemy-migrate>=0.7.1->camelot)\n",
      "  Downloading Tempita-0.6.0-py3-none-any.whl.metadata (972 bytes)\n",
      "Using cached pbr-6.1.0-py2.py3-none-any.whl (108 kB)\n",
      "Downloading Tempita-0.6.0-py3-none-any.whl (13 kB)\n",
      "Downloading sqlparse-0.5.3-py3-none-any.whl (44 kB)\n",
      "Building wheels for collected packages: camelot, xlrd, xlwt, Elixir, SQLAlchemy, sqlalchemy-migrate\n",
      "  Building wheel for camelot (pyproject.toml): started\n",
      "  Building wheel for camelot (pyproject.toml): finished with status 'done'\n",
      "  Created wheel for camelot: filename=Camelot-12.6.29-py3-none-any.whl size=3926604 sha256=dac23d9bdda9cd769da1268d40c1c8da0a9d9f9eba03c72821407c93f8e45a23\n",
      "  Stored in directory: c:\\users\\umaro\\appdata\\local\\pip\\cache\\wheels\\fe\\f1\\a6\\9df97596c3c3582e31a169551a48696766bbe9985886b3ab56\n",
      "  Building wheel for xlrd (pyproject.toml): started\n",
      "  Building wheel for xlrd (pyproject.toml): finished with status 'done'\n",
      "  Created wheel for xlrd: filename=xlrd-0.7.1-py3-none-any.whl size=117969 sha256=4a6aa381e954d3ee926d9efd95e5a9038c18a8066257aa35e5d408a1ac185bae\n",
      "  Stored in directory: c:\\users\\umaro\\appdata\\local\\pip\\cache\\wheels\\10\\6b\\f1\\b2b7138d2bc9c4676974ccc640b08c2bcdc635bece98b6eba8\n",
      "  Building wheel for xlwt (pyproject.toml): started\n",
      "  Building wheel for xlwt (pyproject.toml): finished with status 'done'\n",
      "  Created wheel for xlwt: filename=xlwt-0.7.2-py3-none-any.whl size=121677 sha256=e3218b60448fabeac0e7afa1419a87f01ccf015f1dff11e53858633cc8e5b80b\n",
      "  Stored in directory: c:\\users\\umaro\\appdata\\local\\pip\\cache\\wheels\\81\\03\\9c\\ed7a98a8fa084be118421eca629cbb7424e5a7cbdd8d0fb0c8\n",
      "  Building wheel for Elixir (pyproject.toml): started\n",
      "  Building wheel for Elixir (pyproject.toml): finished with status 'done'\n",
      "  Created wheel for Elixir: filename=Elixir-0.7.1-py3-none-any.whl size=53899 sha256=5cf168749f51923f2ad2008d1392a68742fefee85c56b56d206c7a2a4b7f4847\n",
      "  Stored in directory: c:\\users\\umaro\\appdata\\local\\pip\\cache\\wheels\\66\\a9\\f8\\54c2d8d842bfe30095166577c77405dc651a2d49417b8cb9ca\n",
      "  Building wheel for SQLAlchemy (pyproject.toml): started\n",
      "  Building wheel for SQLAlchemy (pyproject.toml): finished with status 'done'\n",
      "  Created wheel for SQLAlchemy: filename=SQLAlchemy-0.7.10-py3-none-any.whl size=696318 sha256=5cdf7ad58233f7d442ad6d374861996973cae37475775ee27fa52ca608822a07\n",
      "  Stored in directory: c:\\users\\umaro\\appdata\\local\\pip\\cache\\wheels\\4c\\1d\\2c\\bb871fedc9d366d03b5feb6bef27653cb9f1d524bcca4e0f4d\n",
      "  Building wheel for sqlalchemy-migrate (pyproject.toml): started\n",
      "  Building wheel for sqlalchemy-migrate (pyproject.toml): finished with status 'done'\n",
      "  Created wheel for sqlalchemy-migrate: filename=sqlalchemy_migrate-0.11.0-py3-none-any.whl size=108866 sha256=a48a4cef755cd30a9e457e908b505f5bf78f4c76df6c91a9ea18a776331c7b55\n",
      "  Stored in directory: c:\\users\\umaro\\appdata\\local\\pip\\cache\\wheels\\f6\\bc\\ed\\9bac5879e71a1ff0ebbd6f53e08f352051db466a5bcbfa8d2a\n",
      "Successfully built camelot xlrd xlwt Elixir SQLAlchemy sqlalchemy-migrate\n",
      "Installing collected packages: xlwt, xlrd, Tempita, SQLAlchemy, sqlparse, pbr, Elixir, sqlalchemy-migrate, camelot\n",
      "  Attempting uninstall: SQLAlchemy\n",
      "    Found existing installation: SQLAlchemy 2.0.30\n",
      "    Uninstalling SQLAlchemy-2.0.30:\n",
      "      Successfully uninstalled SQLAlchemy-2.0.30\n",
      "Successfully installed Elixir-0.7.1 SQLAlchemy-0.7.10 Tempita-0.6.0 camelot-12.6.29 pbr-6.1.0 sqlalchemy-migrate-0.11.0 sqlparse-0.5.3 xlrd-0.7.1 xlwt-0.7.2\n"
     ]
    },
    {
     "name": "stderr",
     "output_type": "stream",
     "text": [
      "WARNING: Ignoring invalid distribution ~angchain-community (C:\\Users\\umaro\\AppData\\Local\\Programs\\Python\\Python312\\Lib\\site-packages)\n",
      "WARNING: Ignoring invalid distribution ~angchain-community (C:\\Users\\umaro\\AppData\\Local\\Programs\\Python\\Python312\\Lib\\site-packages)\n",
      "WARNING: Ignoring invalid distribution ~angchain-community (C:\\Users\\umaro\\AppData\\Local\\Programs\\Python\\Python312\\Lib\\site-packages)\n",
      "ERROR: pip's dependency resolver does not currently take into account all the packages that are installed. This behaviour is the source of the following dependency conflicts.\n",
      "langchain 0.3.13 requires SQLAlchemy<3,>=1.4, but you have sqlalchemy 0.7.10 which is incompatible.\n",
      "langchain-community 0.3.13 requires SQLAlchemy<3,>=1.4, but you have sqlalchemy 0.7.10 which is incompatible.\n"
     ]
    }
   ],
   "source": [
    "!pip install camelot"
   ]
  },
  {
   "cell_type": "code",
   "execution_count": 18,
   "metadata": {},
   "outputs": [
    {
     "ename": "ModuleNotFoundError",
     "evalue": "No module named 'camelot'",
     "output_type": "error",
     "traceback": [
      "\u001b[1;31m---------------------------------------------------------------------------\u001b[0m",
      "\u001b[1;31mModuleNotFoundError\u001b[0m                       Traceback (most recent call last)",
      "Cell \u001b[1;32mIn[18], line 1\u001b[0m\n\u001b[1;32m----> 1\u001b[0m \u001b[38;5;28;01mimport\u001b[39;00m \u001b[38;5;21;01mcamelot\u001b[39;00m\n",
      "\u001b[1;31mModuleNotFoundError\u001b[0m: No module named 'camelot'"
     ]
    }
   ],
   "source": [
    "import camelot\n",
    "\n"
   ]
  },
  {
   "cell_type": "code",
   "execution_count": null,
   "metadata": {},
   "outputs": [],
   "source": [
    "tables = camelot.read_pdf(pdf_path, pages=\"62\", flavor=\"lattice\")\n"
   ]
  },
  {
   "cell_type": "code",
   "execution_count": 16,
   "metadata": {},
   "outputs": [
    {
     "ename": "NameError",
     "evalue": "name 'tables' is not defined",
     "output_type": "error",
     "traceback": [
      "\u001b[1;31m---------------------------------------------------------------------------\u001b[0m",
      "\u001b[1;31mNameError\u001b[0m                                 Traceback (most recent call last)",
      "Cell \u001b[1;32mIn[16], line 1\u001b[0m\n\u001b[1;32m----> 1\u001b[0m \u001b[43mtables\u001b[49m[\u001b[38;5;241m0\u001b[39m]\u001b[38;5;241m.\u001b[39mto_csv(\u001b[38;5;124m\"\u001b[39m\u001b[38;5;124mtable.csv\u001b[39m\u001b[38;5;124m\"\u001b[39m)\n",
      "\u001b[1;31mNameError\u001b[0m: name 'tables' is not defined"
     ]
    }
   ],
   "source": [
    "tables[0].to_csv(\"table.csv\")"
   ]
  },
  {
   "cell_type": "code",
   "execution_count": null,
   "metadata": {},
   "outputs": [
    {
     "name": "stdout",
     "output_type": "stream",
     "text": [
      "<Page:63>\n",
      "[['Condition', 'Documentation Example', 'ICD-10-CM Corresponding Codes'], ['Routine/Expected/\\nIntegral/Inherent/\\nIncidental (italics only)', '1. IP Progress Note: ↑ INR therapeutic on warfarin\\nfor bioprosthetic mitral valve replacement.', '1. Report Z79.01 Long term (current) use of\\nanticoagulants, and Z95.3 Presence of xenogenic\\nheart valve as additional diagnoses.\\nIt is not necessary to query the meaning of the up\\narrow as it would not be coded since it is at a\\ntherapeutic level.'], ['Principal Diagnosis', '1. IP Progress Note: Admitted due to Coumadin\\ntoxicity. (Query if the reaction or nature of the toxicity;\\nquery if the drug was correctly prescribed/administered\\nwhen not stated or unclear.)', '1. When the reaction or nature of drug toxicity is not\\ndocumented, a query is needed to define toxicity\\nas either an adverse effect or as a poisoning and to\\nidentify the reaction/manifestation.'], ['Comorbidity', '1. IP Progress Note: Post-admit, elevated INR\\nbecame symptomatic with warfarin-induced\\nmelena; workup revealed chronic gastritis with\\nbleeding; chronic atrial fibrillation stable with\\nadjusted warfarin dose.', '1. Report K29.51 Unspecified chronic gastritis with\\nbleeding; T45.515A Adverse effect of\\nanticoagulants, initial encounter; D68.32\\nHemorrhagic disorder due to extrinsic circulating\\nanticoagulants; I48.20 Chronic atrial fibrillation,\\nunspecified; Z79.01 Long term (current) use of\\nanticoagulants.\\n• When elevated PT/PTT/INR is further specified as\\nproducing a reaction/manifestation, do not\\nreport R79.1 Abnormal coagulation profile.'], ['Complication of Care', 'NA', 'NA'], ['Poisoning or Adverse\\nEffect of Medication/\\nChemical', '1. IP Admit Note: Admit due to HIT-induced acute\\nright thigh DVT s/p right knee total arthroplasty\\non heparin prophylaxis.\\n2. IP Discharge Summary: Coumadin overdose due\\nto elderly patient accidently taking additional\\ndoses, resulting in epistaxis; treated with nasal\\npacking and oral vitamin K.', '1. Report D75.829 Heparin induced\\nthrombocytopenia (HIT); T45.515A Adverse effect\\nof anticoagulants, initial encounter; I82.4Y1 Acute\\nembolism and thrombosis of unspecified deep\\nveins of right proximal lower extremity; Z96.651\\nPresence of right artificial knee joint; Z79.01 Long\\nterm (current) use of anticoagulants.\\n2. Report T45.511A Poisoning by anticoagulants,\\naccidental (unintentional), initial encounter; R04.0\\nEpistaxis; D68.32 Hemorrhagic disorder due to\\nextrinsic circulating anticoagulants; Z79.01 Long\\nterm (current) use of anticoagulants.']]\n"
     ]
    }
   ],
   "source": [
    "import pdfplumber\n",
    "\n",
    "with pdfplumber.open(pdf_path) as pdf:\n",
    "    page = pdf.pages[62]\n",
    "    table = page.extract_table()\n",
    "    print(table)"
   ]
  },
  {
   "cell_type": "code",
   "execution_count": 21,
   "metadata": {},
   "outputs": [],
   "source": [
    "import pandas as pd"
   ]
  },
  {
   "cell_type": "code",
   "execution_count": 28,
   "metadata": {},
   "outputs": [],
   "source": [
    "df = pd.DataFrame(table[1:], columns=table[0])"
   ]
  },
  {
   "cell_type": "code",
   "execution_count": 29,
   "metadata": {},
   "outputs": [
    {
     "name": "stdout",
     "output_type": "stream",
     "text": [
      "                                           Condition  \\\n",
      "0  Routine/Expected/\\nIntegral/Inherent/\\nInciden...   \n",
      "1                                Principal Diagnosis   \n",
      "2                                        Comorbidity   \n",
      "3                               Complication of Care   \n",
      "4  Poisoning or Adverse\\nEffect of Medication/\\nC...   \n",
      "\n",
      "                               Documentation Example  \\\n",
      "0  1. IP Progress Note: ↑ INR therapeutic on warf...   \n",
      "1  1. IP Progress Note: Admitted due to Coumadin\\...   \n",
      "2  1. IP Progress Note: Post-admit, elevated INR\\...   \n",
      "3                                                 NA   \n",
      "4  1. IP Admit Note: Admit due to HIT-induced acu...   \n",
      "\n",
      "                       ICD-10-CM Corresponding Codes  \n",
      "0  1. Report Z79.01 Long term (current) use of\\na...  \n",
      "1  1. When the reaction or nature of drug toxicit...  \n",
      "2  1. Report K29.51 Unspecified chronic gastritis...  \n",
      "3                                                 NA  \n",
      "4  1. Report D75.829 Heparin induced\\nthrombocyto...  \n"
     ]
    }
   ],
   "source": [
    "print(df)"
   ]
  },
  {
   "cell_type": "code",
   "execution_count": 30,
   "metadata": {},
   "outputs": [],
   "source": [
    "df.to_csv(\"output.csv\", index=False)"
   ]
  },
  {
   "cell_type": "code",
   "execution_count": null,
   "metadata": {},
   "outputs": [],
   "source": []
  }
 ],
 "metadata": {
  "kernelspec": {
   "display_name": "Python 3",
   "language": "python",
   "name": "python3"
  },
  "language_info": {
   "codemirror_mode": {
    "name": "ipython",
    "version": 3
   },
   "file_extension": ".py",
   "mimetype": "text/x-python",
   "name": "python",
   "nbconvert_exporter": "python",
   "pygments_lexer": "ipython3",
   "version": "3.12.3"
  }
 },
 "nbformat": 4,
 "nbformat_minor": 2
}
